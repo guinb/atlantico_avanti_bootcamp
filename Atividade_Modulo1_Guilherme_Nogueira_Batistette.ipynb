{
  "cells": [
    {
      "cell_type": "markdown",
      "metadata": {
        "id": "FtNu82mgggDv"
      },
      "source": [
        "# Caso 1"
      ]
    },
    {
      "cell_type": "code",
      "execution_count": 5,
      "metadata": {
        "colab": {
          "base_uri": "https://localhost:8080/"
        },
        "id": "nkQ1fwqJggDz",
        "outputId": "51f53847-b7df-42ad-ddc0-3031777d8852"
      },
      "outputs": [
        {
          "output_type": "stream",
          "name": "stdout",
          "text": [
            "Digite a palavra para verificar: Arara\n",
            "É um palindromo\n"
          ]
        }
      ],
      "source": [
        "palavra = str(input(\"Digite a palavra para verificar: \")).lower()\n",
        "invertido = \"\"\n",
        "for letra in palavra:\n",
        "    invertido = letra + invertido\n",
        "if invertido == palavra:\n",
        "    print(\"É um palindromo\")\n",
        "else:\n",
        "    print(\"Não é um palindromo\")"
      ]
    },
    {
      "cell_type": "markdown",
      "metadata": {
        "id": "xF7K5z-gggD6"
      },
      "source": [
        "# Caso 2"
      ]
    },
    {
      "cell_type": "code",
      "execution_count": 7,
      "metadata": {
        "colab": {
          "base_uri": "https://localhost:8080/"
        },
        "id": "TkcHSqFUggD9",
        "outputId": "eee2e688-0ea2-4b0f-e3d4-a6edae9b4419"
      },
      "outputs": [
        {
          "output_type": "stream",
          "name": "stdout",
          "text": [
            "Digite um número inteiro: -5\n",
            "Digite um número inteiro: 3\n",
            "Digite um número inteiro: 0\n",
            "Números somados:  -2\n"
          ]
        }
      ],
      "source": [
        "nro, soma = 1, 0\n",
        "while(nro != 0):\n",
        "    nro = int(input(\"Digite um número inteiro: \"))\n",
        "    soma += nro\n",
        "print(\"Números somados: \", soma)"
      ]
    },
    {
      "cell_type": "markdown",
      "metadata": {
        "id": "Dx9yRbBlggD_"
      },
      "source": [
        "# Caso 3"
      ]
    },
    {
      "cell_type": "code",
      "execution_count": 8,
      "metadata": {
        "scrolled": true,
        "colab": {
          "base_uri": "https://localhost:8080/"
        },
        "id": "9E5oy1CoggEB",
        "outputId": "4c4b71bf-30fe-4f12-95df-67687a1bc6f2"
      },
      "outputs": [
        {
          "output_type": "execute_result",
          "data": {
            "text/plain": [
              "['python', 'é', 'uma', 'linguagem', 'poderosa']"
            ]
          },
          "metadata": {},
          "execution_count": 8
        }
      ],
      "source": [
        "inteira = \"python é uma linguagem poderosa\"\n",
        "separadas = inteira.split(\" \")\n",
        "separadas"
      ]
    },
    {
      "cell_type": "markdown",
      "metadata": {
        "id": "AcSf_BFrggEC"
      },
      "source": [
        "# Caso 4"
      ]
    },
    {
      "cell_type": "code",
      "execution_count": 9,
      "metadata": {
        "colab": {
          "base_uri": "https://localhost:8080/"
        },
        "id": "1V4DETWcggEC",
        "outputId": "93a82113-b08a-433a-f669-883c63481549"
      },
      "outputs": [
        {
          "output_type": "stream",
          "name": "stdout",
          "text": [
            "Palavras com mais de 5 letras:  banana laranja abacaxi\n",
            "Palavras que terminam com a:  banana laranja\n"
          ]
        }
      ],
      "source": [
        "lista = [\"banana\", \"maçã\", \"laranja\", \"abacaxi\"]\n",
        "lista2 = []\n",
        "lista3 = []\n",
        "for item in lista:\n",
        "    if len(item) > 5:\n",
        "        lista2.append(item)\n",
        "    if item[-1] == \"a\":\n",
        "        lista3.append(item)\n",
        "print(\"Palavras com mais de 5 letras: \", *lista2)\n",
        "print(\"Palavras que terminam com a: \", *lista3)"
      ]
    },
    {
      "cell_type": "markdown",
      "metadata": {
        "id": "plAsR6uAggEE"
      },
      "source": [
        "# Caso 5"
      ]
    },
    {
      "cell_type": "code",
      "execution_count": 10,
      "metadata": {
        "colab": {
          "base_uri": "https://localhost:8080/"
        },
        "id": "oD9Grp7dggEF",
        "outputId": "94499426-feb2-4ec1-9174-20563845cc9c"
      },
      "outputs": [
        {
          "output_type": "execute_result",
          "data": {
            "text/plain": [
              "[3, 5, 1, 9, 7]"
            ]
          },
          "metadata": {},
          "execution_count": 10
        }
      ],
      "source": [
        "def impares(lista):\n",
        "    retorno = []\n",
        "    for item in lista:\n",
        "        if item%2:\n",
        "            retorno.append(item)\n",
        "    return retorno\n",
        "\n",
        "impares([0,2,3,4,5,1,6,9,8,7])"
      ]
    },
    {
      "cell_type": "markdown",
      "metadata": {
        "id": "SQwKMIWHggEF"
      },
      "source": [
        "# Caso 6"
      ]
    },
    {
      "cell_type": "code",
      "execution_count": 11,
      "metadata": {
        "colab": {
          "base_uri": "https://localhost:8080/"
        },
        "id": "5WfGtIrsggEJ",
        "outputId": "4274b3a3-d040-45a8-f126-a01ca12034d5"
      },
      "outputs": [
        {
          "output_type": "execute_result",
          "data": {
            "text/plain": [
              "[2, 3, 5, 7]"
            ]
          },
          "metadata": {},
          "execution_count": 11
        }
      ],
      "source": [
        "def primos(lista):\n",
        "    retorno = []\n",
        "    for nro in lista:\n",
        "        flag = False\n",
        "        for x in range(2,nro):\n",
        "            if nro%x == 0:\n",
        "                flag = True\n",
        "        if not flag and nro > 1:\n",
        "            retorno.append(nro)\n",
        "    return retorno\n",
        "\n",
        "primos([0,2,3,4,5,1,6,9,8,7])"
      ]
    },
    {
      "cell_type": "markdown",
      "metadata": {
        "id": "TNYDUOXQggEL"
      },
      "source": [
        "# Caso 7"
      ]
    },
    {
      "cell_type": "code",
      "execution_count": 14,
      "metadata": {
        "colab": {
          "base_uri": "https://localhost:8080/"
        },
        "id": "-ohWFIZUggEM",
        "outputId": "cd4e5d29-9e17-4d0c-cf68-030707ee88db"
      },
      "outputs": [
        {
          "output_type": "execute_result",
          "data": {
            "text/plain": [
              "[1, 2, 3, 9, 10, 11]"
            ]
          },
          "metadata": {},
          "execution_count": 14
        }
      ],
      "source": [
        "def unicos(lista1,lista2):\n",
        "    return list(set(lista1) ^ set(lista2))\n",
        "\n",
        "unicos([1,3,4,5,2,6,8,7],[10,4,6,7,5,8,9,11])"
      ]
    },
    {
      "cell_type": "markdown",
      "metadata": {
        "id": "LTOBrV-hggEM"
      },
      "source": [
        "# Caso 8"
      ]
    },
    {
      "cell_type": "code",
      "execution_count": 15,
      "metadata": {
        "scrolled": true,
        "colab": {
          "base_uri": "https://localhost:8080/"
        },
        "id": "n8yNLlDwggEN",
        "outputId": "40f9a32b-7d02-447c-c760-83e8c2c28455"
      },
      "outputs": [
        {
          "output_type": "execute_result",
          "data": {
            "text/plain": [
              "6"
            ]
          },
          "metadata": {},
          "execution_count": 15
        }
      ],
      "source": [
        "def segundo_maior(lista):\n",
        "    maior = max(lista)\n",
        "    lista.remove(maior)\n",
        "    return max(lista)\n",
        "\n",
        "segundo_maior([0,1,2,3,4,7,6,4])"
      ]
    },
    {
      "cell_type": "markdown",
      "metadata": {
        "id": "wkppBD54ggEN"
      },
      "source": [
        "# Caso 9"
      ]
    },
    {
      "cell_type": "code",
      "execution_count": 16,
      "metadata": {
        "colab": {
          "base_uri": "https://localhost:8080/"
        },
        "id": "ybKxC_HGggEO",
        "outputId": "459d1903-026f-4ec0-8ed0-e76fae602f2b"
      },
      "outputs": [
        {
          "output_type": "execute_result",
          "data": {
            "text/plain": [
              "[('beto', 40), ('joao', 30), ('maria', 21)]"
            ]
          },
          "metadata": {},
          "execution_count": 16
        }
      ],
      "source": [
        "def alfabetico(lista):\n",
        "    return sorted(lista)\n",
        "\n",
        "alfabetico([(\"joao\",30),(\"maria\",21),(\"beto\",40)])"
      ]
    },
    {
      "cell_type": "markdown",
      "metadata": {
        "id": "tu790NdYggEP"
      },
      "source": [
        "# Caso 10"
      ]
    },
    {
      "cell_type": "code",
      "execution_count": 17,
      "metadata": {
        "colab": {
          "base_uri": "https://localhost:8080/",
          "height": 35
        },
        "id": "failya7uggEP",
        "outputId": "d8c3d39b-0650-4eba-b986-0c80296423c1"
      },
      "outputs": [
        {
          "output_type": "execute_result",
          "data": {
            "text/plain": [
              "'Menor: 0, Maior: 9'"
            ],
            "application/vnd.google.colaboratory.intrinsic+json": {
              "type": "string"
            }
          },
          "metadata": {},
          "execution_count": 17
        }
      ],
      "source": [
        "#def maior_menor(lista):\n",
        "#    maior, menor = lista[0], lista[0]\n",
        "#    for numero in lista:\n",
        "#        if numero > maior:\n",
        "#          maior = numero\n",
        "#        if numero < menor:\n",
        "#          menor = numero\n",
        "#    return \"Menor: {}, Maior: {}\".format(menor,maior)\n",
        "\n",
        "def maior_menor(lista):\n",
        "    return \"Menor: {}, Maior: {}\".format(min(lista), max(lista))\n",
        "\n",
        "maior_menor([0,9,1,3,2,8,7])"
      ]
    },
    {
      "cell_type": "code",
      "source": [],
      "metadata": {
        "id": "RFqU_t42jj1e"
      },
      "execution_count": null,
      "outputs": []
    }
  ],
  "metadata": {
    "kernelspec": {
      "display_name": "Python 3 (ipykernel)",
      "language": "python",
      "name": "python3"
    },
    "language_info": {
      "codemirror_mode": {
        "name": "ipython",
        "version": 3
      },
      "file_extension": ".py",
      "mimetype": "text/x-python",
      "name": "python",
      "nbconvert_exporter": "python",
      "pygments_lexer": "ipython3",
      "version": "3.11.0"
    },
    "colab": {
      "provenance": []
    }
  },
  "nbformat": 4,
  "nbformat_minor": 0
}